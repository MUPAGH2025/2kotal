{
 "cells": [
  {
   "cell_type": "code",
   "id": "initial_id",
   "metadata": {
    "collapsed": true
   },
   "source": [
    "import pint\n",
    "import scipy\n",
    "from matplotlib import pyplot as plt\n",
    "import numpy as np\n",
    "from open_atmos_jupyter_utils import show_plot\n",
    "si=pint.UnitRegistry()\n",
    "si.setup_matplotlib()"
   ],
   "outputs": [],
   "execution_count": null
  },
  {
   "metadata": {},
   "cell_type": "code",
   "source": "print(2*si.kg+1*si.kg)",
   "id": "8ce1a28e1a0ecb89",
   "outputs": [],
   "execution_count": null
  },
  {
   "metadata": {},
   "cell_type": "code",
   "source": [
    "def rho(p,T):\n",
    "    R_str=(scipy.constants.R*si.J/si.mol/si.K)/(28.966*si.kg/si.kmol)\n",
    "    return p/(R_str*T)"
   ],
   "id": "ea6827a4923d1783",
   "outputs": [],
   "execution_count": null
  },
  {
   "metadata": {},
   "cell_type": "code",
   "source": "print(x:=rho(1000*si.hPa,300*si.K).to_base_units())",
   "id": "6112b6fa8d626763",
   "outputs": [],
   "execution_count": null
  },
  {
   "metadata": {},
   "cell_type": "code",
   "source": "x.to(si.g/si.cm**3)",
   "id": "72b8704c67bf90e4",
   "outputs": [],
   "execution_count": null
  },
  {
   "metadata": {},
   "cell_type": "code",
   "source": "print(f\"{x.to(si.g/si.cm**3)=:.3g}\")",
   "id": "8d12e20bfaf1974c",
   "outputs": [],
   "execution_count": null
  },
  {
   "metadata": {},
   "cell_type": "code",
   "source": [
    "plt.plot(T:=np.linspace(200,300)*si.K,rho(300*si.hPa,T).to_base_units(), label='gestosc')\n",
    "plt.grid()\n",
    "plt.gca().xaxis.set_units(si.celsius)\n",
    "plt.gca().yaxis.set_units(si.kg/si.m**3)\n",
    "show_plot()"
   ],
   "id": "5cc905578565eaa5",
   "outputs": [],
   "execution_count": null
  }
 ],
 "metadata": {
  "kernelspec": {
   "display_name": "Python 3 (ipykernel)",
   "language": "python",
   "name": "python3"
  },
  "language_info": {
   "codemirror_mode": {
    "name": "ipython",
    "version": 2
   },
   "file_extension": ".py",
   "mimetype": "text/x-python",
   "name": "python",
   "nbconvert_exporter": "python",
   "pygments_lexer": "ipython2",
   "version": "2.7.6"
  }
 },
 "nbformat": 4,
 "nbformat_minor": 5
}
