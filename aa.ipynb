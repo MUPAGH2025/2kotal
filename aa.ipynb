{
 "cells": [
  {
   "cell_type": "code",
   "id": "initial_id",
   "metadata": {
    "collapsed": true,
    "ExecuteTime": {
     "end_time": "2025-10-29T10:45:20.637094Z",
     "start_time": "2025-10-29T10:45:20.080056Z"
    }
   },
   "source": [
    "import pint\n",
    "si=pint.UnitRegistry()"
   ],
   "outputs": [],
   "execution_count": 4
  },
  {
   "metadata": {
    "ExecuteTime": {
     "end_time": "2025-10-29T10:46:35.137464Z",
     "start_time": "2025-10-29T10:46:35.132459Z"
    }
   },
   "cell_type": "code",
   "source": "print(2*si.kg+1*si.kg)",
   "id": "8ce1a28e1a0ecb89",
   "outputs": [
    {
     "name": "stdout",
     "output_type": "stream",
     "text": [
      "3 kilogram\n"
     ]
    }
   ],
   "execution_count": 7
  }
 ],
 "metadata": {
  "kernelspec": {
   "display_name": "Python 3",
   "language": "python",
   "name": "python3"
  },
  "language_info": {
   "codemirror_mode": {
    "name": "ipython",
    "version": 2
   },
   "file_extension": ".py",
   "mimetype": "text/x-python",
   "name": "python",
   "nbconvert_exporter": "python",
   "pygments_lexer": "ipython2",
   "version": "2.7.6"
  }
 },
 "nbformat": 4,
 "nbformat_minor": 5
}
